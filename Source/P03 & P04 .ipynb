{
 "cells": [
  {
   "cell_type": "markdown",
   "metadata": {},
   "source": [
    "# Importing Packages"
   ]
  },
  {
   "cell_type": "markdown",
   "metadata": {},
   "source": [
    "### 1) import tensoflow and other related packages"
   ]
  },
  {
   "cell_type": "code",
   "execution_count": 22,
   "metadata": {},
   "outputs": [],
   "source": [
    "import tensorflow as tf\n",
    "from tensorflow import keras\n",
    "from sklearn.model_selection import train_test_split\n",
    "from pandas.api.types import CategoricalDtype \n",
    "from sklearn import metrics\n",
    "from sklearn.metrics import accuracy_score,precision_score,confusion_matrix\n",
    "import keras_tuner as kt\n",
    "\n",
    "#%load_ext tensorboard => I am running tensorboard from Terminal\n"
   ]
  },
  {
   "cell_type": "markdown",
   "metadata": {},
   "source": [
    "### 2) import additional packages"
   ]
  },
  {
   "cell_type": "code",
   "execution_count": 23,
   "metadata": {},
   "outputs": [],
   "source": [
    "import numpy as np\n",
    "import pandas as pd\n",
    "import seaborn as sns\n",
    "import matplotlib.pyplot as plt\n",
    "import math \n",
    "import shutil\n",
    "import os\n",
    "import time\n",
    "import json\n",
    "\n",
    "plt.rcParams['figure.figsize'] = [9, 6]\n",
    "sns.set_style(\"darkgrid\")\n",
    "base_log_dir = \"./logs/\"\n",
    "\n",
    "if not os.path.exists(base_log_dir):\n",
    "    os.makedirs(base_log_dir)\n"
   ]
  },
  {
   "cell_type": "markdown",
   "metadata": {},
   "source": [
    "### 3) simple utils to handel some implementation"
   ]
  },
  {
   "cell_type": "code",
   "execution_count": 24,
   "metadata": {},
   "outputs": [],
   "source": [
    "def CalculateMetricsAndPlot(true_label, predicted_label,color=\"Blues\",text=\"\"):\n",
    "    CM = confusion_matrix(true_label, predicted_label)\n",
    "    acc = round(accuracy_score(true_label,predicted_label)*100,2)\n",
    "    precision = round(precision_score(true_label,predicted_label, average='macro'),2)\n",
    "    if text == \"\":\n",
    "        sns.heatmap(CM ,annot=True, cmap=color, fmt='g').set_title(\"Confusion Matrix for Test Data | Accuracy={0}% | Precision={1}\".format(acc,precision))\n",
    "    else :\n",
    "        sns.heatmap(CM ,annot=True, cmap=color, fmt='g').set_title(\"Confusion Matrix for Test Data | Accuracy={0}% | Precision={1} | {2}\".format(acc,precision,text))\n",
    "    \n",
    "    plt.show()"
   ]
  },
  {
   "cell_type": "markdown",
   "metadata": {},
   "source": [
    "# Loading Dataset & Split"
   ]
  },
  {
   "cell_type": "code",
   "execution_count": 30,
   "metadata": {},
   "outputs": [
    {
     "name": "stdout",
     "output_type": "stream",
     "text": [
      "percentage of Train: 60.68%\n",
      "percentage of Validation: 10.71%\n",
      "percentage of Test: 28.61%\n"
     ]
    }
   ],
   "source": [
    "X_train = pd.read_csv(\"./UCI HAR Dataset/train/X_train.txt\",header=None,delim_whitespace=True).to_numpy()\n",
    "X_test = pd.read_csv(\"./UCI HAR Dataset/test/X_test.txt\",header=None,delim_whitespace=True).to_numpy()\n",
    "\n",
    "Y_train = pd.read_csv(\"./UCI HAR Dataset/train/y_train.txt\",header=None,delim_whitespace=True).to_numpy()\n",
    "Y_test = pd.read_csv(\"./UCI HAR Dataset/test/y_test.txt\",header=None,delim_whitespace=True).to_numpy()\n",
    "\n",
    "X_train, X_valid, Y_train, Y_valid = train_test_split(X_train, Y_train, test_size=0.15,stratify=Y_train)\n",
    "Y_test,Y_train,Y_valid=Y_test-1,Y_train-1,Y_valid-1\n",
    "\n",
    "Total_count = X_train.shape[0]+X_valid.shape[0]+X_test.shape[0]\n",
    "\n",
    "print(\"percentage of Train: {0}%\".format(round(X_train.shape[0]/Total_count*100,2)))\n",
    "print(\"percentage of Validation: {0}%\".format(round(X_valid.shape[0]/Total_count*100,2)))\n",
    "print(\"percentage of Test: {0}%\".format(round(X_test.shape[0]/Total_count*100,2)))\n"
   ]
  },
  {
   "cell_type": "markdown",
   "metadata": {},
   "source": [
    "# Custom MLP Builder "
   ]
  },
  {
   "cell_type": "code",
   "execution_count": 44,
   "metadata": {},
   "outputs": [],
   "source": [
    "class SequentialANN :\n",
    "    def __init__(self,_shape_input:tuple,label_count,_neurons : list,id=None):\n",
    "        self.model = keras.models.Sequential()\n",
    "        keras.backend.clear_session()\n",
    "        self.model.add(keras.layers.Input(shape=_shape_input))\n",
    "        \n",
    "        for n in range(len(_neurons)) :\n",
    "            self.model.add(keras.layers.Dense(_neurons[n],activation=\"sigmoid\"))\n",
    "\n",
    "        self.model.add(keras.layers.Dense(label_count, activation='softmax'))\n",
    "        \n",
    "        self.id = id \n",
    "        self.log_dir = base_log_dir+str(id)+\"/\"\n",
    "        \n",
    "            \n",
    "    def compile(self,_optimizer='adam',_loss='sparse_categorical_crossentropy', _metrics=[\"accuracy\"]):\n",
    "        if not os.path.exists(self.log_dir):\n",
    "            os.makedirs(self.log_dir)\n",
    "        else:\n",
    "            shutil.rmtree(self.log_dir, ignore_errors=True)\n",
    "            os.makedirs(self.log_dir)\n",
    "        self.model.compile(optimizer=_optimizer, loss=_loss,metrics=_metrics)\n",
    "        tensorboard_callback = keras.callbacks.TensorBoard(log_dir=self.log_dir, histogram_freq=1)\n",
    "        self.tensorboard_callback = tensorboard_callback\n",
    "        \n",
    "        self.optimizer = _optimizer\n",
    "        self.loss = _loss \n",
    "        self.metrics = _metrics\n",
    "        \n",
    "    def fit(self,**argu):\n",
    "        self.model.fit(**argu)\n",
    "        \n",
    "        _text_log_dir = self.log_dir+\"Parameter Logs\"\n",
    "        \n",
    "        if not os.path.exists(_text_log_dir):\n",
    "            os.makedirs(_text_log_dir)\n",
    "        else:\n",
    "            shutil.rmtree(_text_log_dir, ignore_errors=True)\n",
    "            os.makedirs(_text_log_dir)\n",
    "            \n",
    "        file_writer = tf.summary.create_file_writer(_text_log_dir)\n",
    "        self.optimizer = \"adam\"\n",
    "        argu[\"optimizer\"] = self.optimizer\n",
    "        argu[\"loss\"] = self.loss\n",
    "        argu[\"metrics\"] = self.metrics\n",
    "        \n",
    "        \n",
    "        argu[\"Test loss\"],argu[\"Test accuracy\"] = self.model.evaluate(X_test,Y_test)        \n",
    "        \n",
    "        del argu[\"x\"]\n",
    "        del argu[\"y\"]\n",
    "        del argu [\"validation_data\"]\n",
    "        del argu[\"callbacks\"]\n",
    "        \n",
    "        index = 0\n",
    "        for key in argu:\n",
    "            with file_writer.as_default():                            \n",
    "                tf.summary.text(\"Parameter report: \"+str(key), str(key) + \" : \" +str(argu[key]) , step=index)\n",
    "                index+=1    \n",
    "                \n",
    "        \n",
    "        with open(self.log_dir + \"json_report.json\", 'w') as outfile:\n",
    "            json.dump(argu, outfile)\n",
    "        self.save()\n",
    "        self.plot()\n",
    "        \n",
    "            \n",
    "    def save(self):\n",
    "        self.model.save(self.log_dir+\"model.h5\")\n",
    "        \n",
    "    def plot(self):\n",
    "        keras.utils.plot_model(self.model,to_file=self.log_dir+\"graph.png\",show_shapes=True,expand_nested=True,show_layer_activations=True,show_dtype=True,show_layer_names=False)\n",
    "        \n",
    "        "
   ]
  },
  {
   "cell_type": "markdown",
   "metadata": {},
   "source": [
    "# Training MLPs on dataset"
   ]
  },
  {
   "cell_type": "markdown",
   "metadata": {},
   "source": [
    "### Finding optimal parameters for # layers & # units(Keras Tuner)"
   ]
  },
  {
   "cell_type": "code",
   "execution_count": 29,
   "metadata": {},
   "outputs": [
    {
     "name": "stdout",
     "output_type": "stream",
     "text": [
      "Trial 30 Complete [00h 00m 42s]\n",
      "val_accuracy: 0.9809610247612\n",
      "\n",
      "Best val_accuracy So Far: 0.9809610247612\n",
      "Total elapsed time: 00h 18m 10s\n",
      "INFO:tensorflow:Oracle triggered exit\n",
      "Results summary\n",
      "Results in .\\untitled_project\n",
      "Showing 10 best trials\n",
      "Objective(name='val_accuracy', direction='max')\n",
      "Trial summary\n",
      "Hyperparameters:\n",
      "num_layers: 1\n",
      "units_0: 256\n",
      "units_1: 32\n",
      "units_2: 240\n",
      "units_3: 144\n",
      "Score: 0.9809610247612\n",
      "Trial summary\n",
      "Hyperparameters:\n",
      "num_layers: 3\n",
      "units_0: 96\n",
      "units_1: 48\n",
      "units_2: 48\n",
      "units_3: 80\n",
      "Score: 0.9800543785095215\n",
      "Trial summary\n",
      "Hyperparameters:\n",
      "num_layers: 3\n",
      "units_0: 240\n",
      "units_1: 96\n",
      "units_2: 192\n",
      "units_3: 16\n",
      "Score: 0.9800543785095215\n",
      "Trial summary\n",
      "Hyperparameters:\n",
      "num_layers: 1\n",
      "units_0: 176\n",
      "units_1: 160\n",
      "units_2: 192\n",
      "units_3: 64\n",
      "Score: 0.9800543785095215\n",
      "Trial summary\n",
      "Hyperparameters:\n",
      "num_layers: 2\n",
      "units_0: 128\n",
      "units_1: 48\n",
      "units_2: 208\n",
      "units_3: 192\n",
      "Score: 0.9800543785095215\n",
      "Trial summary\n",
      "Hyperparameters:\n",
      "num_layers: 2\n",
      "units_0: 144\n",
      "units_1: 48\n",
      "units_2: 176\n",
      "units_3: 160\n",
      "Score: 0.9800543785095215\n",
      "Trial summary\n",
      "Hyperparameters:\n",
      "num_layers: 3\n",
      "units_0: 96\n",
      "units_1: 80\n",
      "units_2: 224\n",
      "units_3: 144\n",
      "Score: 0.9791477918624878\n",
      "Trial summary\n",
      "Hyperparameters:\n",
      "num_layers: 3\n",
      "units_0: 96\n",
      "units_1: 224\n",
      "units_2: 80\n",
      "units_3: 256\n",
      "Score: 0.9791477918624878\n",
      "Trial summary\n",
      "Hyperparameters:\n",
      "num_layers: 3\n",
      "units_0: 32\n",
      "units_1: 160\n",
      "units_2: 64\n",
      "units_3: 224\n",
      "Score: 0.9791477918624878\n",
      "Trial summary\n",
      "Hyperparameters:\n",
      "num_layers: 2\n",
      "units_0: 224\n",
      "units_1: 64\n",
      "units_2: 160\n",
      "units_3: 64\n",
      "Score: 0.9791477918624878\n"
     ]
    }
   ],
   "source": [
    "def ModelBuilder(hyperparameter):\n",
    "    model = keras.Sequential()\n",
    "    model.add(keras.layers.Input(shape=(561,)))\n",
    "    for i in range(hyperparameter.Int(\"num_layers\", 1, 4)):\n",
    "        model.add(\n",
    "            keras.layers.Dense(\n",
    "                units=hyperparameter.Int(f\"units_{i}\", min_value=16, max_value=256, step=16),\n",
    "                activation= \"sigmoid\",\n",
    "            )\n",
    "        )\n",
    "\n",
    "    model.add(keras.layers.Dense(6, activation=\"softmax\"))    \n",
    "    model.compile(\n",
    "        optimizer=\"adam\",\n",
    "        loss=\"sparse_categorical_crossentropy\",\n",
    "        metrics=[\"accuracy\"],\n",
    "    )\n",
    "    return model\n",
    "\n",
    "tuner = kt.RandomSearch(ModelBuilder,objective='val_accuracy',max_trials=30)\n",
    "tuner.search(X_train, Y_train, epochs=25, validation_data=(X_valid, Y_valid))\n",
    "tuner.results_summary()"
   ]
  },
  {
   "cell_type": "markdown",
   "metadata": {},
   "source": [
    "### Finding optimal parameter for LR (manual)"
   ]
  },
  {
   "cell_type": "code",
   "execution_count": 35,
   "metadata": {},
   "outputs": [
    {
     "name": "stdout",
     "output_type": "stream",
     "text": [
      "<tf.Variable 'learning_rate:0' shape=() dtype=float32, numpy=0.5>\n",
      "93/93 [==============================] - 0s 4ms/step - loss: 1.9930 - accuracy: 0.1598\n",
      "<tf.Variable 'learning_rate:0' shape=() dtype=float32, numpy=0.1>\n",
      "93/93 [==============================] - 0s 4ms/step - loss: 1.1248 - accuracy: 0.3482\n",
      "<tf.Variable 'learning_rate:0' shape=() dtype=float32, numpy=0.01>\n",
      "93/93 [==============================] - 1s 6ms/step - loss: 0.3961 - accuracy: 0.9138\n",
      "<tf.Variable 'learning_rate:0' shape=() dtype=float32, numpy=0.001>\n",
      "93/93 [==============================] - 0s 4ms/step - loss: 0.1986 - accuracy: 0.9508\n",
      "<tf.Variable 'learning_rate:0' shape=() dtype=float32, numpy=1e-04>\n",
      "93/93 [==============================] - 0s 2ms/step - loss: 0.1449 - accuracy: 0.9491\n"
     ]
    }
   ],
   "source": [
    "LRs = [0.5,0.1,0.01,0.001,0.0001]\n",
    "\n",
    "for lr in LRs:\n",
    "    optimizer = tf.keras.optimizers.Adam(lr)\n",
    "    time.sleep(5)\n",
    "    optimizer.learning_rate.assign(lr)\n",
    "    print(optimizer.learning_rate)\n",
    "    model = SequentialANN((X_train.shape[1],),6,[128,16],\"Main - LR {0}\".format(lr))\n",
    "    model.compile(optimizer)\n",
    "    model.fit(x=X_train, \n",
    "                    y=Y_train, \n",
    "                    batch_size=48,\n",
    "                    epochs=100, \n",
    "                    verbose=0,\n",
    "                    validation_data=(X_valid, Y_valid),callbacks=[model.tensorboard_callback])\n",
    "                \n"
   ]
  },
  {
   "cell_type": "markdown",
   "metadata": {},
   "source": [
    "### Training optimal MLP "
   ]
  },
  {
   "cell_type": "code",
   "execution_count": 45,
   "metadata": {},
   "outputs": [
    {
     "name": "stdout",
     "output_type": "stream",
     "text": [
      "93/93 [==============================] - 0s 2ms/step - loss: 0.2223 - accuracy: 0.9447\n"
     ]
    },
    {
     "data": {
      "image/png": "[encoded data removed]",
      "text/plain": [
       "<Figure size 648x432 with 2 Axes>"
      ]
     },
     "metadata": {},
     "output_type": "display_data"
    }
   ],
   "source": [
    "model = SequentialANN((X_train.shape[1],),6,[128,16],\"Main-Orginal Features\")\n",
    "model.compile()\n",
    "model.fit(x=X_train, \n",
    "                y=Y_train, \n",
    "                batch_size=48,\n",
    "                epochs=100, \n",
    "                verbose=0,\n",
    "                validation_data=(X_valid, Y_valid),callbacks=[model.tensorboard_callback])\n",
    "            \n",
    "CalculateMetricsAndPlot(Y_test,np.argmax(model.model.predict(X_test), axis=-1))"
   ]
  },
  {
   "cell_type": "code",
   "execution_count": null,
   "metadata": {},
   "outputs": [],
   "source": []
  }
 ],
 "metadata": {
  "interpreter": {
   "hash": "2f58f5e3d824a28f35e64a3b79d7f63edde6993a3dcc3aa79d0be3205de7b8a2"
  },
  "kernelspec": {
   "display_name": "Python 3",
   "language": "python",
   "name": "python3"
  },
  "language_info": {
   "codemirror_mode": {
    "name": "ipython",
    "version": 3
   },
   "file_extension": ".py",
   "mimetype": "text/x-python",
   "name": "python",
   "nbconvert_exporter": "python",
   "pygments_lexer": "ipython3",
   "version": "3.8.2"
  }
 },
 "nbformat": 4,
 "nbformat_minor": 2
}
